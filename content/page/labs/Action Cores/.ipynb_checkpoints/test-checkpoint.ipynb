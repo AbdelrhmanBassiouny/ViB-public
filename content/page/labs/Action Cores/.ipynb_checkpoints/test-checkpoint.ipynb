{
 "cells": [
  {
   "cell_type": "code",
   "execution_count": 4,
   "id": "initial_id",
   "metadata": {
    "ExecuteTime": {
     "end_time": "2024-09-03T20:09:29.919540581Z",
     "start_time": "2024-09-03T20:09:29.917427784Z"
    }
   },
   "outputs": [
    {
     "name": "stdout",
     "output_type": "stream",
     "text": [
      "Environment: None\n",
      "Robot: None\n",
      "Task: None\n"
     ]
    }
   ],
   "source": [
    "import sys\n",
    "from urllib.parse import parse_qs\n",
    "\n",
    "#http://localhost:8888/notebooks/content/page/comingsoon/Generalized%20Action%20Plans/test.ipynb?environments=apartment&robots=pr2&tasks=cutting\n",
    "\n",
    "# The parameters are passed as part of sys.argv\n",
    "if len(sys.argv) > 1:\n",
    "    params = sys.argv[1]\n",
    "    query_dict = parse_qs(params)\n",
    "\n",
    "    environment = query_dict.get('environments', [None])[0]\n",
    "    robot = query_dict.get('robots', [None])[0]\n",
    "    task = query_dict.get('tasks', [None])[0]\n",
    "\n",
    "    print(f\"Environment: {environment}\")\n",
    "    print(f\"Robot: {robot}\")\n",
    "    print(f\"Task: {task}\")"
   ]
  },
  {
   "cell_type": "code",
   "execution_count": null,
   "id": "e487700029ae4c42",
   "metadata": {
    "collapsed": false,
    "jupyter": {
     "outputs_hidden": false
    }
   },
   "outputs": [],
   "source": []
  },
  {
   "cell_type": "code",
   "execution_count": null,
   "id": "b9851c6e-1acd-4ed9-b19c-b4ee155f561b",
   "metadata": {},
   "outputs": [],
   "source": []
  }
 ],
 "metadata": {
  "kernelspec": {
   "display_name": "Python 3 (ipykernel)",
   "language": "python",
   "name": "python3"
  },
  "language_info": {
   "codemirror_mode": {
    "name": "ipython",
    "version": 3
   },
   "file_extension": ".py",
   "mimetype": "text/x-python",
   "name": "python",
   "nbconvert_exporter": "python",
   "pygments_lexer": "ipython3",
   "version": "3.8.10"
  }
 },
 "nbformat": 4,
 "nbformat_minor": 5
}
