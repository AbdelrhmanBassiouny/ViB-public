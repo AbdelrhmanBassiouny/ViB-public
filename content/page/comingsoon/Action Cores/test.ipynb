{
 "cells": [
  {
   "cell_type": "code",
   "execution_count": null,
   "id": "initial_id",
   "metadata": {
    "ExecuteTime": {
     "end_time": "2024-09-03T20:34:50.470437666Z",
     "start_time": "2024-09-03T20:34:50.428204559Z"
    }
   },
   "outputs": [],
   "source": [
    "\n",
    "%%javascript\n",
    "console.log(\"Inline JS loaded\");\n"
   ]
  },
  {
   "cell_type": "code",
   "execution_count": 4,
   "id": "e487700029ae4c42",
   "metadata": {
    "ExecuteTime": {
     "end_time": "2024-09-03T20:34:50.471333831Z",
     "start_time": "2024-09-03T20:34:50.470066818Z"
    },
    "collapsed": false,
    "jupyter": {
     "outputs_hidden": false
    }
   },
   "outputs": [],
   "source": []
  },
  {
   "cell_type": "code",
   "execution_count": 4,
   "id": "b9851c6e-1acd-4ed9-b19c-b4ee155f561b",
   "metadata": {
    "ExecuteTime": {
     "end_time": "2024-09-03T20:34:50.471861262Z",
     "start_time": "2024-09-03T20:34:50.470502243Z"
    }
   },
   "outputs": [],
   "source": []
  }
 ],
 "metadata": {
  "kernelspec": {
   "display_name": "Python 3 (ipykernel)",
   "language": "python",
   "name": "python3"
  },
  "language_info": {
   "codemirror_mode": {
    "name": "ipython",
    "version": 3
   },
   "file_extension": ".py",
   "mimetype": "text/x-python",
   "name": "python",
   "nbconvert_exporter": "python",
   "pygments_lexer": "ipython3",
   "version": "3.8.10"
  }
 },
 "nbformat": 4,
 "nbformat_minor": 5
}
